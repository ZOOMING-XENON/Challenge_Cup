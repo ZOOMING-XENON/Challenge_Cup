{
 "cells": [
  {
   "metadata": {},
   "cell_type": "markdown",
   "source": "## 类Class",
   "id": "21fb9fd0fb147af8"
  },
  {
   "metadata": {
    "ExecuteTime": {
     "end_time": "2025-02-17T05:46:39.147692Z",
     "start_time": "2025-02-17T05:46:39.144374Z"
    }
   },
   "cell_type": "code",
   "source": [
    "# 定义一个简单的类，名为 Person\n",
    "class Person:\n",
    "    # 类属性，所有 Person 对象共享\n",
    "    species = \"Homo sapiens\"\n",
    "\n",
    "    # 构造方法，用于初始化对象的实例属性\n",
    "    def __init__(self, name, age):\n",
    "        # 实例属性\n",
    "        self.name = name\n",
    "        self.age = age\n",
    "\n",
    "    # 实例方法，用于打印对象的信息\n",
    "    def introduce(self):\n",
    "        print(f\"我叫 {self.name}，今年 {self.age} 岁，属于 {self.species}。\")\n",
    "\n",
    "    # 类方法，使用 @classmethod 装饰器，第一个参数通常命名为 cls，表示类本身\n",
    "    @classmethod\n",
    "    def get_species(cls):\n",
    "        return cls.species\n",
    "\n",
    "    # 静态方法，使用 @staticmethod 装饰器，不需要传入类或实例作为参数\n",
    "    @staticmethod\n",
    "    def is_adult(age):\n",
    "        return age >= 18\n",
    "\n",
    "# 创建 Person 类的对象实例\n",
    "person1 = Person(\"张三\", 25)\n",
    "person2 = Person(\"李四\", 15)\n",
    "\n",
    "# 调用实例方法\n",
    "person1.introduce()\n",
    "person2.introduce()\n",
    "\n",
    "# 调用类方法\n",
    "print(Person.get_species())\n",
    "\n",
    "# 调用静态方法\n",
    "print(Person.is_adult(person1.age))\n",
    "print(Person.is_adult(person2.age))"
   ],
   "id": "ada53366daf4c570",
   "outputs": [
    {
     "name": "stdout",
     "output_type": "stream",
     "text": [
      "我叫 张三，今年 25 岁，属于 Homo sapiens。\n",
      "我叫 李四，今年 15 岁，属于 Homo sapiens。\n",
      "Homo sapiens\n",
      "True\n",
      "False\n"
     ]
    }
   ],
   "execution_count": 1
  },
  {
   "metadata": {
    "ExecuteTime": {
     "end_time": "2025-02-17T06:03:45.988935Z",
     "start_time": "2025-02-17T06:03:45.978289Z"
    }
   },
   "cell_type": "code",
   "source": [
    "import time\n",
    "time.strftime(\"%Y-%m-%d %H:%M:%S\")"
   ],
   "id": "991eea32654e6efc",
   "outputs": [
    {
     "data": {
      "text/plain": [
       "'2025-02-17 14:03:45'"
      ]
     },
     "execution_count": 3,
     "metadata": {},
     "output_type": "execute_result"
    }
   ],
   "execution_count": 3
  },
  {
   "metadata": {},
   "cell_type": "code",
   "outputs": [],
   "execution_count": null,
   "source": "",
   "id": "9b2729bd1d5a376c"
  }
 ],
 "metadata": {
  "kernelspec": {
   "display_name": "Python 3",
   "language": "python",
   "name": "python3"
  },
  "language_info": {
   "codemirror_mode": {
    "name": "ipython",
    "version": 2
   },
   "file_extension": ".py",
   "mimetype": "text/x-python",
   "name": "python",
   "nbconvert_exporter": "python",
   "pygments_lexer": "ipython2",
   "version": "2.7.6"
  }
 },
 "nbformat": 4,
 "nbformat_minor": 5
}
