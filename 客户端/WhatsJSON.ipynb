{
 "cells": [
  {
   "cell_type": "code",
   "id": "initial_id",
   "metadata": {
    "collapsed": true,
    "ExecuteTime": {
     "end_time": "2025-02-17T05:11:04.544017Z",
     "start_time": "2025-02-17T05:11:04.539954Z"
    }
   },
   "source": [
    "import json\n",
    "\n",
    "# JSON字符串\n",
    "# 注意看json是怎么表示的\n",
    "json_string = '{\"name\": \"John\", \"age\": 30, \"city\": \"New York\"}'\n",
    "\n",
    "# 解析JSON字符串\n",
    "data = json.loads(json_string)\n",
    "\n",
    "# 输出解析后的Python对象\n",
    "print(data)\n",
    "print(type(data))  # 输出: <class 'dict'>\n"
   ],
   "outputs": [
    {
     "name": "stdout",
     "output_type": "stream",
     "text": [
      "{'name': 'John', 'age': 30, 'city': 'New York'}\n",
      "<class 'dict'>\n"
     ]
    }
   ],
   "execution_count": 1
  },
  {
   "metadata": {},
   "cell_type": "markdown",
   "source": "## 以上是将JSON解析成字典",
   "id": "4935a069ae6178c7"
  },
  {
   "metadata": {
    "ExecuteTime": {
     "end_time": "2025-02-17T05:11:36.972215Z",
     "start_time": "2025-02-17T05:11:36.963235Z"
    }
   },
   "cell_type": "code",
   "source": [
    "# Python字典\n",
    "data = {\n",
    "    'name': 'John',\n",
    "    'age': 30,\n",
    "    'city': 'New York'\n",
    "}\n",
    "\n",
    "# 将Python对象转换为JSON字符串\n",
    "json_string = json.dumps(data)\n",
    "\n",
    "# 输出JSON字符串\n",
    "print(json_string)\n",
    "print(type(json_string))  # 输出: <class 'str'>"
   ],
   "id": "93c4dddb1adf822a",
   "outputs": [
    {
     "name": "stdout",
     "output_type": "stream",
     "text": [
      "{\"name\": \"John\", \"age\": 30, \"city\": \"New York\"}\n",
      "<class 'str'>\n"
     ]
    }
   ],
   "execution_count": 2
  },
  {
   "metadata": {},
   "cell_type": "markdown",
   "source": "## 以上是把字典转换成JSON文件\n",
   "id": "1feaae32de55983c"
  },
  {
   "metadata": {},
   "cell_type": "markdown",
   "source": [
    "JSON是以字符串形式储存的\n",
    "## 读取并解析json文件"
   ],
   "id": "c2e71e46d3b86c64"
  },
  {
   "metadata": {
    "ExecuteTime": {
     "end_time": "2025-02-17T05:17:40.763681Z",
     "start_time": "2025-02-17T05:17:40.749720Z"
    }
   },
   "cell_type": "code",
   "source": [
    "import json\n",
    "\n",
    "# 从文件读取JSON数据\n",
    "with open('test.json', 'r') as file:\n",
    "    data = json.load(file)\n",
    "\n",
    "# 输出解析后的Python对象\n",
    "print(data)\n",
    "print(type(data))"
   ],
   "id": "70d0106bb95a4892",
   "outputs": [
    {
     "name": "stdout",
     "output_type": "stream",
     "text": [
      "{'name': 'John', 'age': 30, 'city': 'New York'}\n",
      "<class 'dict'>\n"
     ]
    }
   ],
   "execution_count": 4
  },
  {
   "metadata": {},
   "cell_type": "markdown",
   "source": "## 写入JSON文档",
   "id": "2f038bd601c9e177"
  },
  {
   "metadata": {
    "ExecuteTime": {
     "end_time": "2025-02-17T05:20:18.995723Z",
     "start_time": "2025-02-17T05:20:18.990743Z"
    }
   },
   "cell_type": "code",
   "source": [
    "import json\n",
    "\n",
    "# Python字典\n",
    "data = {\n",
    "    'name': 'John',\n",
    "    'age': 30,\n",
    "    'city': 'New York',\n",
    "    'hobby': 'basketball'\n",
    "}\n",
    "\n",
    "# 将Python对象写入JSON文件\n",
    "with open('test.json', 'w') as file:\n",
    "    json.dump(data, file)"
   ],
   "id": "f5e9061c528c78ce",
   "outputs": [],
   "execution_count": 8
  },
  {
   "metadata": {},
   "cell_type": "code",
   "outputs": [],
   "execution_count": null,
   "source": "",
   "id": "ffbfdc171b7d24fa"
  }
 ],
 "metadata": {
  "kernelspec": {
   "display_name": "Python 3",
   "language": "python",
   "name": "python3"
  },
  "language_info": {
   "codemirror_mode": {
    "name": "ipython",
    "version": 2
   },
   "file_extension": ".py",
   "mimetype": "text/x-python",
   "name": "python",
   "nbconvert_exporter": "python",
   "pygments_lexer": "ipython2",
   "version": "2.7.6"
  }
 },
 "nbformat": 4,
 "nbformat_minor": 5
}
